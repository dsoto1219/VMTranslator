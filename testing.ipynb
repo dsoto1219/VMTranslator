{
 "cells": [
  {
   "cell_type": "code",
   "execution_count": 1,
   "metadata": {},
   "outputs": [],
   "source": [
    "%load_ext autoreload\n",
    "%autoreload 2"
   ]
  },
  {
   "cell_type": "code",
   "execution_count": null,
   "metadata": {},
   "outputs": [],
   "source": [
    "# Code that generated the longer REGEXES in constants.py\n",
    "import constants\n",
    "\n",
    "cmd_type_regexes: dict[str, str] = {}\n",
    "for cmd_type in constants.TYPE_COMMANDS:\n",
    "    type_regex = \"\"\n",
    "    for command in constants.TYPE_COMMANDS[cmd_type]:\n",
    "        type_regex += command + '|'\n",
    "    type_regex = type_regex.removesuffix('|')\n",
    "    cmd_type_regexes[cmd_type] = type_regex\n",
    "\n",
    "segment_regex = \"\"\n",
    "for segment in constants.SEGMENT_SYMBOLS:\n",
    "    segment_regex += segment + '|'\n",
    "segment_regex = segment_regex.removesuffix('|')\n",
    "\n",
    "segment_regex"
   ]
  },
  {
   "cell_type": "code",
   "execution_count": 5,
   "metadata": {},
   "outputs": [
    {
     "data": {
      "text/plain": [
       "'// This file is part of www.nand2tetris.org\\n'"
      ]
     },
     "execution_count": 5,
     "metadata": {},
     "output_type": "execute_result"
    }
   ],
   "source": [
    "import re\n",
    "\n",
    "re.fullmatch(pattern=r\"^\\s*(?://.*)?\\n$\", string=\"// This file is part of www.nand2tetris.org\\n\").group()"
   ]
  },
  {
   "cell_type": "code",
   "execution_count": 8,
   "metadata": {},
   "outputs": [
    {
     "data": {
      "text/plain": [
       "{'cmd': 'push', 'segment': 'constant', 'index': '10'}"
      ]
     },
     "execution_count": 8,
     "metadata": {},
     "output_type": "execute_result"
    }
   ],
   "source": [
    "import re\n",
    "from constants import REGEXES\n",
    "\n",
    "matches = re.fullmatch(\n",
    "    pattern=r'''\n",
    "    ^\\s*                             # Optional whitespace\n",
    "    (?P<cmd>{memory_access_cmds})\\s+ # Valid memory access command\n",
    "    (?P<segment>{valid_segments})\\s+ # Valid virtual memory segment\n",
    "    (?P<index>\\d+)                   # Any non-negative segment\n",
    "    \\s*(?://.*)?\\n$                  # Optional whitespace+comment\n",
    "    '''.format(\n",
    "        memory_access_cmds=REGEXES['command']['memory_access'],\n",
    "        valid_segments=REGEXES['segment']),\n",
    "    string=\"push constant 10\\n\",\n",
    "    flags=re.X)\n",
    "\n",
    "matches.groupdict()"
   ]
  }
 ],
 "metadata": {
  "kernelspec": {
   "display_name": "base",
   "language": "python",
   "name": "python3"
  },
  "language_info": {
   "codemirror_mode": {
    "name": "ipython",
    "version": 3
   },
   "file_extension": ".py",
   "mimetype": "text/x-python",
   "name": "python",
   "nbconvert_exporter": "python",
   "pygments_lexer": "ipython3",
   "version": "3.12.3"
  }
 },
 "nbformat": 4,
 "nbformat_minor": 2
}
