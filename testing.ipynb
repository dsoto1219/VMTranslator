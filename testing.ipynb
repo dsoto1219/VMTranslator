{
 "cells": [
  {
   "cell_type": "code",
   "execution_count": 155,
   "metadata": {},
   "outputs": [
    {
     "name": "stdout",
     "output_type": "stream",
     "text": [
      "The autoreload extension is already loaded. To reload it, use:\n",
      "  %reload_ext autoreload\n"
     ]
    }
   ],
   "source": [
    "%load_ext autoreload\n",
    "%autoreload 2"
   ]
  },
  {
   "cell_type": "code",
   "execution_count": 98,
   "metadata": {},
   "outputs": [
    {
     "data": {
      "text/plain": [
       "'argument|local|static|constant|this|that|pointer|temp'"
      ]
     },
     "execution_count": 98,
     "metadata": {},
     "output_type": "execute_result"
    }
   ],
   "source": [
    "# Making better regex\n",
    "import re\n",
    "import constants\n",
    "\n",
    "cmd_type_regexes: dict[str, str] = {}\n",
    "for cmd_type in constants.TYPE_COMMANDS:\n",
    "    type_regex = \"\"\n",
    "    for command in constants.TYPE_COMMANDS[cmd_type]:\n",
    "        type_regex += command + '|'\n",
    "    type_regex = type_regex.removesuffix('|')\n",
    "    cmd_type_regexes[cmd_type] = type_regex\n",
    "\n",
    "segment_regex = \"\"\n",
    "for segment in constants.SEGMENT_SYMBOLS:\n",
    "    segment_regex += segment + '|'\n",
    "segment_regex = segment_regex.removesuffix('|')\n",
    "\n",
    "segment_regex"
   ]
  },
  {
   "cell_type": "code",
   "execution_count": 1,
   "metadata": {},
   "outputs": [
    {
     "ename": "NameError",
     "evalue": "name 're' is not defined",
     "output_type": "error",
     "traceback": [
      "\u001b[1;31m---------------------------------------------------------------------------\u001b[0m",
      "\u001b[1;31mNameError\u001b[0m                                 Traceback (most recent call last)",
      "Cell \u001b[1;32mIn[1], line 1\u001b[0m\n\u001b[1;32m----> 1\u001b[0m regex \u001b[38;5;241m=\u001b[39m \u001b[43mre\u001b[49m\u001b[38;5;241m.\u001b[39mcompile(\u001b[38;5;124mr\u001b[39m\u001b[38;5;124m'''\u001b[39m\n\u001b[0;32m      2\u001b[0m \u001b[38;5;124m    ^\u001b[39m\u001b[38;5;124m\\\u001b[39m\u001b[38;5;124ms*\u001b[39m\n\u001b[0;32m      3\u001b[0m \u001b[38;5;124m    (?P<arithmetic>\u001b[39m\u001b[38;5;132;01m{arithmetic_cmds}\u001b[39;00m\u001b[38;5;124m)|\u001b[39m\n\u001b[0;32m      4\u001b[0m \u001b[38;5;124m    (?P<memory_access>(\u001b[39m\u001b[38;5;132;01m{memory_access_cmds}\u001b[39;00m\u001b[38;5;124m)\u001b[39m\u001b[38;5;124m\\\u001b[39m\u001b[38;5;124ms+(\u001b[39m\u001b[38;5;132;01m{valid_segments}\u001b[39;00m\u001b[38;5;124m)\u001b[39m\u001b[38;5;124m\\\u001b[39m\u001b[38;5;124ms+(\u001b[39m\u001b[38;5;124m\\\u001b[39m\u001b[38;5;124md+))\u001b[39m\n\u001b[0;32m      5\u001b[0m \u001b[38;5;124m    \u001b[39m\u001b[38;5;124m\\\u001b[39m\u001b[38;5;124ms*$\u001b[39m\n\u001b[0;32m      6\u001b[0m \u001b[38;5;124m'''\u001b[39m\u001b[38;5;241m.\u001b[39mformat(arithmetic_cmds\u001b[38;5;241m=\u001b[39mcmd_type_regexes[\u001b[38;5;124m'\u001b[39m\u001b[38;5;124marithmetic\u001b[39m\u001b[38;5;124m'\u001b[39m], \n\u001b[0;32m      7\u001b[0m            memory_access_cmds\u001b[38;5;241m=\u001b[39mcmd_type_regexes[\u001b[38;5;124m'\u001b[39m\u001b[38;5;124mmemory_access\u001b[39m\u001b[38;5;124m'\u001b[39m],\n\u001b[0;32m      8\u001b[0m            valid_segments\u001b[38;5;241m=\u001b[39msegment_regex),\n\u001b[0;32m      9\u001b[0m            re\u001b[38;5;241m.\u001b[39mX)\n\u001b[0;32m     11\u001b[0m matches \u001b[38;5;241m=\u001b[39m regex\u001b[38;5;241m.\u001b[39mfullmatch(\u001b[38;5;124m\"\u001b[39m\u001b[38;5;124mpush local 1\u001b[39m\u001b[38;5;124m\"\u001b[39m)\n\u001b[0;32m     13\u001b[0m matches\u001b[38;5;241m.\u001b[39mstring\n",
      "\u001b[1;31mNameError\u001b[0m: name 're' is not defined"
     ]
    }
   ],
   "source": [
    "regex = re.compile(r'''\n",
    "    ^\\s*\n",
    "    (?P<arithmetic>{arithmetic_cmds})|\n",
    "    (?P<memory_access>({memory_access_cmds})\\s+({valid_segments})\\s+(\\d+))\n",
    "    \\s*$\n",
    "'''.format(arithmetic_cmds=cmd_type_regexes['arithmetic'], \n",
    "           memory_access_cmds=cmd_type_regexes['memory_access'],\n",
    "           valid_segments=segment_regex),\n",
    "           re.X)\n",
    "\n",
    "matches = regex.fullmatch(\"push local 1\")\n",
    "\n",
    "matches.string"
   ]
  }
 ],
 "metadata": {
  "kernelspec": {
   "display_name": "base",
   "language": "python",
   "name": "python3"
  },
  "language_info": {
   "codemirror_mode": {
    "name": "ipython",
    "version": 3
   },
   "file_extension": ".py",
   "mimetype": "text/x-python",
   "name": "python",
   "nbconvert_exporter": "python",
   "pygments_lexer": "ipython3",
   "version": "3.12.3"
  }
 },
 "nbformat": 4,
 "nbformat_minor": 2
}
