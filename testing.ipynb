{
 "cells": [
  {
   "cell_type": "code",
   "execution_count": 1,
   "metadata": {},
   "outputs": [],
   "source": [
    "%load_ext autoreload\n",
    "%autoreload 2"
   ]
  },
  {
   "cell_type": "code",
   "execution_count": null,
   "metadata": {},
   "outputs": [],
   "source": [
    "# Code that generated the longer REGEXES in constants.py\n",
    "import constants\n",
    "\n",
    "cmd_type_regexes: dict[str, str] = {}\n",
    "for cmd_type in constants.TYPE_COMMANDS:\n",
    "    type_regex = \"\"\n",
    "    for command in constants.TYPE_COMMANDS[cmd_type]:\n",
    "        type_regex += command + '|'\n",
    "    type_regex = type_regex.removesuffix('|')\n",
    "    cmd_type_regexes[cmd_type] = type_regex\n",
    "\n",
    "segment_regex = \"\"\n",
    "for segment in constants.SEGMENT_SYMBOLS:\n",
    "    segment_regex += segment + '|'\n",
    "segment_regex = segment_regex.removesuffix('|')\n",
    "\n",
    "segment_regex"
   ]
  },
  {
   "cell_type": "code",
   "execution_count": 3,
   "metadata": {},
   "outputs": [],
   "source": [
    "import re\n",
    "from constants import REGEXES\n",
    "\n",
    "regex = re.compile(r'''\n",
    "    ^\\s*\n",
    "    (?P<arithmetic>{arithmetic_cmds})|\n",
    "    (?P<memory_access>({memory_access_cmds})\\s+({valid_segments})\\s+(\\d+))\n",
    "    \\s*$\n",
    "'''.format(arithmetic_cmds=REGEXES['arithmetic'], \n",
    "           memory_access_cmds=REGEXES['memory_access'],\n",
    "           valid_segments=segment_regex),\n",
    "           re.X)\n",
    "\n",
    "matches = regex.fullmatch(\"push local 1\")"
   ]
  }
 ],
 "metadata": {
  "kernelspec": {
   "display_name": "base",
   "language": "python",
   "name": "python3"
  },
  "language_info": {
   "codemirror_mode": {
    "name": "ipython",
    "version": 3
   },
   "file_extension": ".py",
   "mimetype": "text/x-python",
   "name": "python",
   "nbconvert_exporter": "python",
   "pygments_lexer": "ipython3",
   "version": "3.12.3"
  }
 },
 "nbformat": 4,
 "nbformat_minor": 2
}
